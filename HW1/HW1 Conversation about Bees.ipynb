{
 "cells": [
  {
   "cell_type": "code",
   "execution_count": 11,
   "metadata": {
    "collapsed": false
   },
   "outputs": [
    {
     "name": "stdout",
     "output_type": "stream",
     "text": [
      "Conversation about bees has decreased since 2013\n"
     ]
    }
   ],
   "source": [
    "import mediacloud, json, datetime\n",
    "my_api_key = ''\n",
    "mc = mediacloud.api.MediaCloud(my_api_key)\n",
    "\n",
    "# Has the conversation about bees increased between 2013 and 2014?\n",
    "    \n",
    "bees_2013 = mc.sentenceCount('bee OR bees', solr_filter=[mc.publish_date_query( datetime.date( 2013, 1, 1), datetime.date( 2014, 1, 1) ), 'media_sets_id:1' ])\n",
    "bees_2014 = mc.sentenceCount('bee OR bees', solr_filter=[mc.publish_date_query( datetime.date( 2014, 1, 1), datetime.date( 2015, 1, 1) ), 'media_sets_id:1' ])\n",
    "\n",
    "# print \"In 2013: %d \" % bees_2013['count']\n",
    "# print \"In 2014: %d \" % bees_2014['count']\n",
    "\n",
    "\n",
    "if (bees_2013['count'] > bees_2014['count']):\n",
    "    print \"Conversation about bees has decreased since 2013!\"\n",
    "else :\n",
    "    print \"Conversation about bees has increased since 2013!\""
   ]
  },
  {
   "cell_type": "code",
   "execution_count": null,
   "metadata": {
    "collapsed": true
   },
   "outputs": [],
   "source": []
  }
 ],
 "metadata": {
  "kernelspec": {
   "display_name": "Python 2",
   "language": "python",
   "name": "python2"
  },
  "language_info": {
   "codemirror_mode": {
    "name": "ipython",
    "version": 2
   },
   "file_extension": ".py",
   "mimetype": "text/x-python",
   "name": "python",
   "nbconvert_exporter": "python",
   "pygments_lexer": "ipython2",
   "version": "2.7.10"
  }
 },
 "nbformat": 4,
 "nbformat_minor": 0
}
